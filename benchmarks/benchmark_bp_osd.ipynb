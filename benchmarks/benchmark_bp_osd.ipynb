{
 "cells": [
  {
   "cell_type": "markdown",
   "id": "cdfdac18-d2e0-44e5-bc95-390a0299f04f",
   "metadata": {},
   "source": [
    "# Circuit-level depolarizing noise: BP-OSD vs MWPM"
   ]
  },
  {
   "cell_type": "code",
   "execution_count": 1,
   "id": "a104bc0c-d9fe-4f04-a77f-97ce92fc6a8f",
   "metadata": {},
   "outputs": [],
   "source": [
    "from bp_osd import BP_OSD\n",
    "from pymatching import Matching\n",
    "\n",
    "import stim\n",
    "import numpy as np"
   ]
  },
  {
   "cell_type": "code",
   "execution_count": 2,
   "id": "fe3df7ae-b63c-446a-8fca-c9e0190907f0",
   "metadata": {},
   "outputs": [],
   "source": [
    "NUM_ROUNDS = 70 \n",
    "NOISE_PROB = 0.01\n",
    "DISTANCE = 3\n",
    "\n",
    "circuit = stim.Circuit.generated(code_task=\"surface_code:rotated_memory_z\", \n",
    "                                 distance=DISTANCE, \n",
    "                                 rounds=NUM_ROUNDS, \n",
    "                                 after_clifford_depolarization=NOISE_PROB)"
   ]
  },
  {
   "cell_type": "code",
   "execution_count": 3,
   "id": "7c72b3cf-ec0b-4212-b96b-3e1957439fc1",
   "metadata": {},
   "outputs": [],
   "source": [
    "sampler = circuit.compile_detector_sampler()\n",
    "defects, log_flips = sampler.sample(shots=100_000, separate_observables=True)"
   ]
  },
  {
   "cell_type": "code",
   "execution_count": 4,
   "id": "e64ff9c4-ca6a-42dc-bbde-0f99fe3931fc",
   "metadata": {},
   "outputs": [
    {
     "data": {
      "text/plain": [
       "<560x7723 sparse matrix of type '<class 'numpy.uint8'>'\n",
       "\twith 21468 stored elements in Compressed Sparse Column format>"
      ]
     },
     "execution_count": 4,
     "metadata": {},
     "output_type": "execute_result"
    }
   ],
   "source": [
    "bp_osd = BP_OSD.from_detector_error_model(circuit.detector_error_model())\n",
    "bp_osd._matrices.check_matrix"
   ]
  },
  {
   "cell_type": "code",
   "execution_count": 5,
   "id": "e1ab8b58-7524-43a1-8b82-a4e47ca8ba1f",
   "metadata": {},
   "outputs": [
    {
     "name": "stdout",
     "output_type": "stream",
     "text": [
      "prob logical error MWPM   | ave= 0.34564 | std= 0.0015039048852902898\n"
     ]
    },
    {
     "name": "stderr",
     "output_type": "stream",
     "text": [
      "100%|███████████████████████████████████| 100000/100000 [35:25<00:00, 47.06it/s]\n"
     ]
    },
    {
     "name": "stdout",
     "output_type": "stream",
     "text": [
      "prob logical error BP-OSD | ave= 0.37158 | std= 0.00152809784896125\n"
     ]
    },
    {
     "name": "stderr",
     "output_type": "stream",
     "text": [
      "100%|█████████████████████████████████| 100000/100000 [5:04:00<00:00,  5.48it/s]"
     ]
    },
    {
     "name": "stdout",
     "output_type": "stream",
     "text": [
      "prob logical error BP-OSD(order=40) | ave= 0.32444 | std= 0.0014804684609946942\n"
     ]
    },
    {
     "name": "stderr",
     "output_type": "stream",
     "text": [
      "\n"
     ]
    }
   ],
   "source": [
    "mwpm = Matching(circuit.detector_error_model(decompose_errors=True))\n",
    "predictions_mwpm = mwpm.decode_batch(defects)\n",
    "print(\"prob logical error MWPM  \", \n",
    "      \"| ave=\", np.average(predictions_mwpm != log_flips), \n",
    "      \"| std=\", np.std(predictions_mwpm != log_flips)/np.sqrt(log_flips.shape[0]))\n",
    "\n",
    "bp_osd = BP_OSD.from_detector_error_model(circuit.detector_error_model())\n",
    "predictions_bposd = bp_osd.decode_batch(defects)\n",
    "print(\"prob logical error BP-OSD\", \n",
    "      \"| ave=\", np.average(predictions_bposd != log_flips), \n",
    "      \"| std=\", np.std(predictions_bposd != log_flips)/np.sqrt(log_flips.shape[0]))\n",
    "\n",
    "for osd_order in [40]:\n",
    "    bp_osd_cs = BP_OSD.from_detector_error_model(circuit.detector_error_model(), osd_method=\"osd_cs\", osd_order=osd_order)\n",
    "    predictions_bposd_cs = bp_osd_cs.decode_batch(defects)\n",
    "    print(f\"prob logical error BP-OSD(order={osd_order})\", \n",
    "          \"| ave=\", np.average(predictions_bposd_cs != log_flips), \n",
    "          \"| std=\", np.std(predictions_bposd_cs != log_flips)/np.sqrt(log_flips.shape[0]))"
   ]
  },
  {
   "cell_type": "code",
   "execution_count": null,
   "id": "59dc3d18-abb8-4de0-b20b-d2d7613717a2",
   "metadata": {},
   "outputs": [],
   "source": []
  }
 ],
 "metadata": {
  "kernelspec": {
   "display_name": "Python 3 (ipykernel)",
   "language": "python",
   "name": "python3"
  },
  "language_info": {
   "codemirror_mode": {
    "name": "ipython",
    "version": 3
   },
   "file_extension": ".py",
   "mimetype": "text/x-python",
   "name": "python",
   "nbconvert_exporter": "python",
   "pygments_lexer": "ipython3",
   "version": "3.8.12"
  }
 },
 "nbformat": 4,
 "nbformat_minor": 5
}
